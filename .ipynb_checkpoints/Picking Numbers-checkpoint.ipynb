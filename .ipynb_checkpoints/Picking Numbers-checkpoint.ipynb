{
 "cells": [
  {
   "cell_type": "code",
   "execution_count": 4,
   "metadata": {},
   "outputs": [],
   "source": [
    "#先去重，再转化成str计数\n",
    "def pickingNumbers(a):\n",
    "    a_nodup = sorted(list(set(a)))\n",
    "    a_num = [0]*len(a_nodup)\n",
    "    a_str = \"\".join(list(map(str,a)))\n",
    "    \n",
    "\n",
    "    for i in range(len(a_nodup)):\n",
    "        a_num[i] = a_str.count(str(a_nodup[i]))\n",
    "    \n",
    "    num = []\n",
    "    for i in range(len(a_num)-1):\n",
    "        num.append(a_num[i]+a_num[i+1])\n",
    "    \n",
    "    print(max(num))\n",
    "        \n",
    "     \n",
    "        \n",
    "        \n",
    "    # Write your code here"
   ]
  },
  {
   "cell_type": "code",
   "execution_count": 5,
   "metadata": {
    "scrolled": true
   },
   "outputs": [
    {
     "name": "stdout",
     "output_type": "stream",
     "text": [
      "3\n"
     ]
    }
   ],
   "source": [
    "a=[4,6,5,3,3,1]\n",
    "pickingNumbers(a)"
   ]
  },
  {
   "cell_type": "code",
   "execution_count": null,
   "metadata": {},
   "outputs": [],
   "source": []
  }
 ],
 "metadata": {
  "kernelspec": {
   "display_name": "Python 3",
   "language": "python",
   "name": "python3"
  },
  "language_info": {
   "codemirror_mode": {
    "name": "ipython",
    "version": 3
   },
   "file_extension": ".py",
   "mimetype": "text/x-python",
   "name": "python",
   "nbconvert_exporter": "python",
   "pygments_lexer": "ipython3",
   "version": "3.6.8"
  }
 },
 "nbformat": 4,
 "nbformat_minor": 2
}
